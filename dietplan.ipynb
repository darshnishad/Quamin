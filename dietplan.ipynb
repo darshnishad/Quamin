{
  "cells": [
    {
      "cell_type": "markdown",
      "metadata": {
        "id": "view-in-github",
        "colab_type": "text"
      },
      "source": [
        "<a href=\"https://colab.research.google.com/github/darshnishad/Quamin/blob/main/dietplan.ipynb\" target=\"_parent\"><img src=\"https://colab.research.google.com/assets/colab-badge.svg\" alt=\"Open In Colab\"/></a>"
      ]
    },
    {
      "cell_type": "code",
      "source": [
        "from google.colab import drive\n",
        "drive.mount('/content/drive')"
      ],
      "metadata": {
        "colab": {
          "base_uri": "https://localhost:8080/"
        },
        "id": "Ro-F0Q8bKeY_",
        "outputId": "ccc05c78-1006-4a9b-8dcb-224d646019ab"
      },
      "execution_count": 4,
      "outputs": [
        {
          "output_type": "stream",
          "name": "stdout",
          "text": [
            "Mounted at /content/drive\n"
          ]
        }
      ]
    },
    {
      "cell_type": "code",
      "execution_count": null,
      "metadata": {
        "id": "oPxGkqdpJaXO"
      },
      "outputs": [],
      "source": [
        "import pandas as pd\n",
        "from sklearn.model_selection import train_test_split\n",
        "from sklearn.preprocessing import LabelEncoder\n",
        "from sklearn.metrics import accuracy_score , mean_absolute_error\n",
        "from sklearn.ensemble import RandomForestClassifier , RandomForestRegressor\n",
        "\n",
        "food = pd.read_csv('/content/drive/MyDrive/Quamin/food.csv')\n",
        "diet = pd.read_csv('/content/drive/MyDrive/Quamin/Dietary Habits Survey Data.csv')\n",
        "\n",
        "food = food.dropna()\n",
        "\n",
        "le = LabelEncoder()\n",
        "\n",
        "for i in diet.columns:\n",
        "    if diet[i].dtype == 'object':\n",
        "        diet[i] = le.fit_transform(diet[i])\n",
        "\n",
        "food['Data.Household Weights.1st Household Weight Description'] = le.fit_transform(food['Data.Household Weights.1st Household Weight Description'])\n",
        "food['Data.Household Weights.2nd Household Weight Description'] = le.fit_transform(food['Data.Household Weights.2nd Household Weight Description'])\n",
        "\n",
        "linked_data = []\n",
        "\n",
        "for index,row in food.iterrows():\n",
        "    description = row['Food Item Category']\n",
        "\n",
        "    if description in diet.columns:\n",
        "        temp_df = diet.copy()\n",
        "        temp_df['Food Item Category'] = description\n",
        "\n",
        "        for col in food.columns:\n",
        "            if col != 'Food Item Category':\n",
        "                temp_df[col] = row[col]\n",
        "\n",
        "            linked_data.append(temp_df)\n",
        "\n",
        "merged_data = pd.concat(linked_data, ignore_index=True)\n",
        "\n",
        "merged_data_cal = merged_data.drop(['Food Item Category','Category','Description'],axis=1)\n",
        "\n",
        "x = merged_data_cal.drop(['Data.Kilocalories'],axis=1)\n",
        "y = merged_data_cal['Data.Kilocalories']\n",
        "\n",
        "x_train,x_test,y_train,y_test = train_test_split(x,y,test_size=0.2,random_state=42)\n",
        "\n",
        "reg = RandomForestRegressor(n_estimators=100,random_state=42)\n",
        "reg.fit(x_train,y_train)\n",
        "\n",
        "y_pred  = reg.predict(x_test)\n",
        "\n",
        "mae = mean_absolute_error(y_test,y_pred)\n",
        "print(f'Mean Absolute Error for Calories Prediction: {mae}')\n",
        "\n",
        "y_food = merged_data['Description']\n",
        "\n",
        "x_train,x_test,y_train,y_test = train_test_split(y,y_food,test_size=0.2,random_state=42)\n",
        "\n",
        "clf = RandomForestClassifier(n_estimators=100,random_state=42)\n",
        "clf.fit(x_train,y_train)\n",
        "\n",
        "y_pred_food = clf.predict(x_test)\n",
        "\n",
        "acc = accuracy_score(y_food,y_pred_food)\n",
        "print(f'Mean Absolute Error for Calories Prediction: {acc}')\n",
        "\n",
        "\n",
        "\n",
        "\n",
        "\n",
        "\n",
        "\n",
        "\n",
        "\n",
        "\n"
      ]
    }
  ],
  "metadata": {
    "language_info": {
      "name": "python"
    },
    "colab": {
      "provenance": [],
      "include_colab_link": true
    },
    "kernelspec": {
      "name": "python3",
      "display_name": "Python 3"
    }
  },
  "nbformat": 4,
  "nbformat_minor": 0
}