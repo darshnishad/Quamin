{
  "cells": [
    {
      "cell_type": "markdown",
      "metadata": {
        "id": "view-in-github",
        "colab_type": "text"
      },
      "source": [
        "<a href=\"https://colab.research.google.com/github/darshnishad/Quamin/blob/main/dietplan.ipynb\" target=\"_parent\"><img src=\"https://colab.research.google.com/assets/colab-badge.svg\" alt=\"Open In Colab\"/></a>"
      ]
    },
    {
      "cell_type": "code",
      "source": [
        "from google.colab import drive\n",
        "drive.mount('/content/drive')"
      ],
      "metadata": {
        "colab": {
          "base_uri": "https://localhost:8080/"
        },
        "id": "Ro-F0Q8bKeY_",
        "outputId": "86444435-2b1e-4a58-eaf9-a96ec466febc"
      },
      "execution_count": 3,
      "outputs": [
        {
          "output_type": "stream",
          "name": "stdout",
          "text": [
            "Mounted at /content/drive\n"
          ]
        }
      ]
    },
    {
      "cell_type": "code",
      "execution_count": 9,
      "metadata": {
        "id": "oPxGkqdpJaXO",
        "outputId": "4953a1a5-61cd-45a0-88bd-160dc333f88f",
        "colab": {
          "base_uri": "https://localhost:8080/"
        }
      },
      "outputs": [
        {
          "metadata": {
            "tags": null
          },
          "name": "stderr",
          "output_type": "stream",
          "text": [
            "<ipython-input-9-65a520b9cb17>:20: SettingWithCopyWarning: \n",
            "A value is trying to be set on a copy of a slice from a DataFrame.\n",
            "Try using .loc[row_indexer,col_indexer] = value instead\n",
            "\n",
            "See the caveats in the documentation: https://pandas.pydata.org/pandas-docs/stable/user_guide/indexing.html#returning-a-view-versus-a-copy\n",
            "  food['Data.Household Weights.1st Household Weight Description'] = le.fit_transform(food['Data.Household Weights.1st Household Weight Description'])\n",
            "<ipython-input-9-65a520b9cb17>:21: SettingWithCopyWarning: \n",
            "A value is trying to be set on a copy of a slice from a DataFrame.\n",
            "Try using .loc[row_indexer,col_indexer] = value instead\n",
            "\n",
            "See the caveats in the documentation: https://pandas.pydata.org/pandas-docs/stable/user_guide/indexing.html#returning-a-view-versus-a-copy\n",
            "  food['Data.Household Weights.2nd Household Weight Description'] = le.fit_transform(food['Data.Household Weights.2nd Household Weight Description'])\n"
          ]
        },
        {
          "output_type": "stream",
          "name": "stdout",
          "text": [
            "Mean Absolute Error for Calories Prediction: 0.0\n",
            "Accuracy Score for Food Prediction: 0.11100763643136524\n"
          ]
        }
      ],
      "source": [
        "import pandas as pd\n",
        "from sklearn.model_selection import train_test_split\n",
        "from sklearn.preprocessing import LabelEncoder\n",
        "from sklearn.metrics import accuracy_score , mean_absolute_error\n",
        "from sklearn.ensemble import RandomForestClassifier , RandomForestRegressor\n",
        "\n",
        "food = pd.read_csv('/content/drive/MyDrive/Quamin/food.csv')\n",
        "diet = pd.read_csv('/content/drive/MyDrive/Quamin/Dietary Habits Survey Data.csv')\n",
        "\n",
        "food = food.dropna()\n",
        "\n",
        "le = LabelEncoder()\n",
        "\n",
        "for i in diet.columns:\n",
        "    if diet[i].dtype == 'object':\n",
        "        diet[i] = le.fit_transform(diet[i])\n",
        "\n",
        "food.drop(['Description'],axis=1)\n",
        "\n",
        "food['Data.Household Weights.1st Household Weight Description'] = le.fit_transform(food['Data.Household Weights.1st Household Weight Description'])\n",
        "food['Data.Household Weights.2nd Household Weight Description'] = le.fit_transform(food['Data.Household Weights.2nd Household Weight Description'])\n",
        "\n",
        "linked_data = []\n",
        "\n",
        "for index,row in food.iterrows():\n",
        "    description = row['Food Item Category']\n",
        "\n",
        "    if description in diet.columns:\n",
        "        temp_df = diet.copy()\n",
        "        temp_df['Food Item Category'] = description\n",
        "\n",
        "        for col in food.columns:\n",
        "            if col != 'Food Item Category':\n",
        "                temp_df[col] = row[col]\n",
        "\n",
        "        linked_data.append(temp_df)\n",
        "\n",
        "merged_data = pd.concat(linked_data, ignore_index=True)\n",
        "\n",
        "merged_data_cal = merged_data.drop(['Food Item Category','Category','Description'],axis=1)\n",
        "\n",
        "x = merged_data_cal.drop(['Data.Kilocalories'],axis=1)\n",
        "y = merged_data_cal['Data.Kilocalories']\n",
        "\n",
        "x_train,x_test,y_train,y_test = train_test_split(x,y,test_size=0.2,random_state=42)\n",
        "\n",
        "reg = RandomForestRegressor(n_estimators=100,random_state=42)\n",
        "reg.fit(x_train,y_train)\n",
        "\n",
        "y_pred  = reg.predict(x_test)\n",
        "\n",
        "mae = mean_absolute_error(y_test,y_pred)\n",
        "print(f'Mean Absolute Error for Calories Prediction: {mae}')\n",
        "\n",
        "if 'Description' in merged_data.columns:\n",
        "    a = merged_data[['Data.Kilocalories']]\n",
        "    y = merged_data['Description']\n",
        "\n",
        "a_train,a_test,y_train,y_test = train_test_split(a,y,test_size=0.2,random_state=42)\n",
        "\n",
        "clf = RandomForestClassifier(n_estimators=100,random_state=42)\n",
        "clf.fit(a_train,y_train)\n",
        "\n",
        "y_pred_food = clf.predict(a_test)\n",
        "\n",
        "acc = accuracy_score(y_test,y_pred_food)\n",
        "print(f'Accuracy Score for Food Prediction: {acc}')\n",
        "\n",
        "\n",
        "\n",
        "\n",
        "\n",
        "\n",
        "\n",
        "\n",
        "\n",
        "\n",
        "\n",
        "\n",
        "\n",
        "\n",
        "\n",
        "\n",
        "\n",
        "\n",
        "\n",
        "\n"
      ]
    },
    {
      "cell_type": "code",
      "source": [],
      "metadata": {
        "id": "G5Oe4WWg0mt2"
      },
      "execution_count": null,
      "outputs": []
    }
  ],
  "metadata": {
    "language_info": {
      "name": "python"
    },
    "colab": {
      "provenance": [],
      "include_colab_link": true
    },
    "kernelspec": {
      "name": "python3",
      "display_name": "Python 3"
    }
  },
  "nbformat": 4,
  "nbformat_minor": 0
}